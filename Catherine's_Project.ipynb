{
  "nbformat": 4,
  "nbformat_minor": 0,
  "metadata": {
    "colab": {
      "provenance": [],
      "authorship_tag": "ABX9TyM/gnHJlxuaqXPhlFQmhgRM",
      "include_colab_link": true
    },
    "kernelspec": {
      "name": "python3",
      "display_name": "Python 3"
    },
    "language_info": {
      "name": "python"
    }
  },
  "cells": [
    {
      "cell_type": "markdown",
      "metadata": {
        "id": "view-in-github",
        "colab_type": "text"
      },
      "source": [
        "<a href=\"https://colab.research.google.com/github/CatDawn29/Catherine-Project/blob/main/Catherine's_Project.ipynb\" target=\"_parent\"><img src=\"https://colab.research.google.com/assets/colab-badge.svg\" alt=\"Open In Colab\"/></a>"
      ]
    },
    {
      "cell_type": "markdown",
      "source": [
        "# **Catherine's Project**"
      ],
      "metadata": {
        "id": "vAIGqJDeela6"
      }
    },
    {
      "cell_type": "markdown",
      "source": [
        "- Catherine Tippins"
      ],
      "metadata": {
        "id": "EA5RNL4DeyXO"
      }
    },
    {
      "cell_type": "code",
      "source": [],
      "metadata": {
        "id": "R9vSbHw0e8NE"
      },
      "execution_count": null,
      "outputs": []
    },
    {
      "cell_type": "markdown",
      "source": [
        "##**Loading Data**"
      ],
      "metadata": {
        "id": "UjTBYtzDe9RK"
      }
    },
    {
      "cell_type": "code",
      "source": [],
      "metadata": {
        "id": "sYXC0AW-fGhL"
      },
      "execution_count": null,
      "outputs": []
    },
    {
      "cell_type": "markdown",
      "source": [
        "##**Data Cleaning**"
      ],
      "metadata": {
        "id": "MSLF3FgdfG0E"
      }
    },
    {
      "cell_type": "code",
      "source": [],
      "metadata": {
        "id": "Q925eDTrfL3W"
      },
      "execution_count": null,
      "outputs": []
    },
    {
      "cell_type": "markdown",
      "source": [
        "##**Exploratory Visuals**"
      ],
      "metadata": {
        "id": "4v_EkO1CfMEQ"
      }
    },
    {
      "cell_type": "code",
      "source": [],
      "metadata": {
        "id": "xZ7zffgofQv3"
      },
      "execution_count": null,
      "outputs": []
    },
    {
      "cell_type": "markdown",
      "source": [
        "##**Explantory Visuals**"
      ],
      "metadata": {
        "id": "a4-0fE6yfQ5w"
      }
    },
    {
      "cell_type": "code",
      "source": [],
      "metadata": {
        "id": "kFaiVSo2fVWX"
      },
      "execution_count": null,
      "outputs": []
    }
  ]
}